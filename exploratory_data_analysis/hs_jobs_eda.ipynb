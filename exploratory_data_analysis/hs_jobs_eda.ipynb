{
 "cells": [
  {
   "cell_type": "code",
   "execution_count": 1,
   "metadata": {},
   "outputs": [],
   "source": [
    "import numpy as np\n",
    "import pandas as pd\n",
    "import matplotlib.pyplot as plt"
   ]
  },
  {
   "cell_type": "code",
   "execution_count": 5,
   "metadata": {},
   "outputs": [
    {
     "data": {
      "text/plain": [
       "Index(['id', 'apply_start', 'created_at', 'updated_at', 'employer_logo',\n",
       "       'employer_name', 'employer_id', 'employment_type_name',\n",
       "       'expiration_date', 'job_id', 'job_name', 'duration',\n",
       "       'employer_industry_id', 'employer_industry_name', 'employer_logo_url',\n",
       "       'job_type_id', 'job_type_name', 'salary_type_id', 'salary_type_name',\n",
       "       'text_description', 'title', 'work_study', 'remote',\n",
       "       'location_cities_1', 'location_states_1', 'location_countries_1',\n",
       "       'location_cities_2', 'location_states_2', 'location_countries_2',\n",
       "       'location_cities_3', 'location_states_3', 'location_countries_3',\n",
       "       'location_cities_4', 'location_states_4', 'location_countries_4',\n",
       "       'location_cities_5', 'location_states_5', 'location_countries_5'],\n",
       "      dtype='object')"
      ]
     },
     "execution_count": 5,
     "metadata": {},
     "output_type": "execute_result"
    }
   ],
   "source": [
    "df = pd.read_csv(\"../../data/handshake_jobs.csv\")\n",
    "df.columns"
   ]
  },
  {
   "cell_type": "code",
   "execution_count": 7,
   "metadata": {},
   "outputs": [
    {
     "data": {
      "text/plain": [
       "37803"
      ]
     },
     "execution_count": 7,
     "metadata": {},
     "output_type": "execute_result"
    }
   ],
   "source": [
    "len(df)"
   ]
  },
  {
   "cell_type": "code",
   "execution_count": 8,
   "metadata": {},
   "outputs": [
    {
     "data": {
      "text/plain": [
       "count    6190.000000\n",
       "mean        6.107108\n",
       "std        14.050195\n",
       "min         1.000000\n",
       "25%         2.000000\n",
       "50%         2.000000\n",
       "75%         5.000000\n",
       "max       318.000000\n",
       "Name: employer_name, dtype: float64"
      ]
     },
     "execution_count": 8,
     "metadata": {},
     "output_type": "execute_result"
    }
   ],
   "source": [
    "df[\"employer_name\"].value_counts().describe()"
   ]
  },
  {
   "cell_type": "code",
   "execution_count": 9,
   "metadata": {},
   "outputs": [
    {
     "data": {
      "text/plain": [
       "Full-Time    35241\n",
       "Part-Time     2562\n",
       "Name: employment_type_name, dtype: int64"
      ]
     },
     "execution_count": 9,
     "metadata": {},
     "output_type": "execute_result"
    }
   ],
   "source": [
    "df['employment_type_name'].value_counts()"
   ]
  },
  {
   "cell_type": "code",
   "execution_count": 10,
   "metadata": {},
   "outputs": [
    {
     "data": {
      "text/plain": [
       "Job           22862\n",
       "Internship    14941\n",
       "Name: job_type_name, dtype: int64"
      ]
     },
     "execution_count": 10,
     "metadata": {},
     "output_type": "execute_result"
    }
   ],
   "source": [
    "df['job_type_name'].value_counts()"
   ]
  },
  {
   "cell_type": "code",
   "execution_count": 12,
   "metadata": {},
   "outputs": [
    {
     "name": "stdout",
     "output_type": "stream",
     "text": [
      "<class 'pandas.core.frame.DataFrame'>\n",
      "RangeIndex: 37803 entries, 0 to 37802\n",
      "Data columns (total 5 columns):\n",
      " #   Column             Non-Null Count  Dtype \n",
      "---  ------             --------------  ----- \n",
      " 0   location_cities_1  36825 non-null  object\n",
      " 1   location_cities_2  7216 non-null   object\n",
      " 2   location_cities_3  4986 non-null   object\n",
      " 3   location_cities_4  3692 non-null   object\n",
      " 4   location_cities_5  2905 non-null   object\n",
      "dtypes: object(5)\n",
      "memory usage: 1.4+ MB\n"
     ]
    }
   ],
   "source": [
    "df[['location_cities_1', 'location_cities_2', 'location_cities_3', 'location_cities_4', 'location_cities_5']].info()"
   ]
  },
  {
   "cell_type": "code",
   "execution_count": null,
   "metadata": {},
   "outputs": [],
   "source": []
  }
 ],
 "metadata": {
  "kernelspec": {
   "display_name": "torch-gpu-2",
   "language": "python",
   "name": "python3"
  },
  "language_info": {
   "codemirror_mode": {
    "name": "ipython",
    "version": 3
   },
   "file_extension": ".py",
   "mimetype": "text/x-python",
   "name": "python",
   "nbconvert_exporter": "python",
   "pygments_lexer": "ipython3",
   "version": "3.8.13"
  },
  "orig_nbformat": 4,
  "vscode": {
   "interpreter": {
    "hash": "6839630624a70b6cbba9f9c44e8a8101eec2195054390ddafd65b7e5f114903b"
   }
  }
 },
 "nbformat": 4,
 "nbformat_minor": 2
}
