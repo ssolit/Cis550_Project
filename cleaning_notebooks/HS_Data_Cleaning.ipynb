{
 "cells": [
  {
   "cell_type": "code",
   "execution_count": 6,
   "id": "4b7ea635-dc41-4620-addd-0606d80747cd",
   "metadata": {},
   "outputs": [],
   "source": [
    "import pandas as pd\n",
    "import numpy as np\n",
    "import json"
   ]
  },
  {
   "cell_type": "code",
   "execution_count": 7,
   "id": "0fb59a96-5ff9-4976-a916-e96bd5e4a8bc",
   "metadata": {},
   "outputs": [],
   "source": [
    "filepath = \"../data/HS_postings.json\"\n",
    "\n",
    "# Opening JSON file\n",
    "f = open(filepath)\n",
    "  \n",
    "# Returns JSON object as a dictionary\n",
    "data = json.load(f)"
   ]
  },
  {
   "cell_type": "code",
   "execution_count": 8,
   "id": "2d52bf85-fe92-4f05-8d81-ba5d5a160aca",
   "metadata": {},
   "outputs": [
    {
     "name": "stdout",
     "output_type": "stream",
     "text": [
      "dict_keys(['type', 'added_institution_label_ids', 'apply_start', 'college_ids', 'created_at', 'updated_at', 'id', 'institution_label_ids', 'interview_status', 'employer_logo', 'employer_name', 'employer_id', 'employment_type_name', 'expiration_date', 'job_id', 'job_name', 'major_group_ids', 'canonical_major_group_ids', 'major_ids', 'major_names', 'school_id', 'top_employer', 'posting_quality', 'job', 'job_reviews_count', 'has_relationship_opportunity', 'first_availability_calendar_id'])\n"
     ]
    }
   ],
   "source": [
    "print(data['postings'][0].keys())"
   ]
  },
  {
   "cell_type": "code",
   "execution_count": 9,
   "id": "eda73004-54be-468a-af48-4b7b34280ba2",
   "metadata": {},
   "outputs": [
    {
     "name": "stdout",
     "output_type": "stream",
     "text": [
      "dict_keys(['ats_integrated', 'ats_provider', 'division_id', 'division_name', 'duration', 'employer_id', 'employer_industry_id', 'employer_industry_name', 'employer_group_ids', 'employer_logo_url', 'employer_name', 'employer_path', 'employment_type_id', 'employment_type_name', 'id', 'job_type_id', 'job_type_name', 'location_ids', 'location_cities', 'location_countries', 'location_names', 'location_points', 'location_states', 'locations_option', 'salary_type_id', 'salary_type_name', 'text_description', 'title', 'type', 'work_study', 'canonical_major_group_ids', 'canonical_major_group_count', 'remote', 'job_role_group_ids', 'student_screen', 'messageable_job_user_profile', 'scheduleable_job_user_profile', 'job_apply_setting', 'required_job_document_types', 'student_qualifications', 'job_user_profiles', 'employer_calendar_availability_enabled', 'virtual_fair_opportunity', 'relationship_opportunities', 'student_employee_profiles'])\n"
     ]
    }
   ],
   "source": [
    "print(data['postings'][0]['job'].keys())"
   ]
  },
  {
   "cell_type": "markdown",
   "id": "32b2420c-87b1-46ad-aec4-d74fb6c1b511",
   "metadata": {},
   "source": [
    "## Make Companies CSV"
   ]
  },
  {
   "cell_type": "code",
   "execution_count": 10,
   "id": "84b0f2b1-244d-475f-9f1c-3a68d2c5c93f",
   "metadata": {},
   "outputs": [],
   "source": [
    "cols = ['id', 'apply_start', 'created_at', 'updated_at',  \n",
    "        'employer_logo', 'employer_name', #'interview_status', 'school_id', 'top_employer', 'job_reviews_count'\n",
    "        'employer_id', 'employment_type_name', 'expiration_date', \n",
    "        'job_id', 'job_name']\n",
    "\n",
    "# come back to later: (lists) 'major_group_ids', 'canonical_major_group_ids', 'major_ids', 'major_names', \n",
    "job_cols = [ 'duration', 'employer_industry_id', 'employer_industry_name',  'employer_logo_url', \n",
    "            'job_type_id', 'job_type_name', \n",
    "            'salary_type_id', 'salary_type_name', 'text_description', \n",
    "            'title', 'work_study', 'remote']\n",
    "#             'location_cities', 'location_countries', 'location_names', 'location_states'] \n",
    "# Removed: id, 'division_id', 'division_name', 'employer_group_ids',\n",
    "# location_cols = ['location_names_1', 'location_names_2', 'location_names_3', 'location_names_4', 'location_names_5']\n",
    "\n",
    "# removed: 'messageable_job_user_profile', 'scheduleable_job_user_profile', 'job_apply_setting',\n",
    "# 'required_job_document_types', 'student_qualifications', 'canonical_major_group_ids', 'job_role_group_ids'\n",
    "\n",
    "# posting_quality_cols = ['time_decayed_popularity_score', 'is_low_quality']\n",
    "# student_screen_cols = ['type', 'cumulative_gpa_required', # 'cumulative_gpa', \n",
    "#                       'accepts_opt_cpt_candidates', 'willing_to_sponsor_candidate', \n",
    "#                       'graduation_date_minimum', 'graduation_date_maximum', 'work_auth_required']\n",
    "#                       'school_year_or_graduation_date_required', 'us_authorization_optional', \n",
    "#                       'work_authorization_requirements', 'major_ids', 'major_group_ids', 'major_group_ids_count', \n",
    "#                       'college_ids', 'school_year_ids', 'institution_label_ids', 'custom_job_interest_option_ids']\n",
    "\n",
    "\n",
    "location_cols = []\n",
    "for i in range(1, 6): \n",
    "    for x in [\"location_cities\", \"location_states\", \"location_countries\"]: \n",
    "        location_cols.append(f\"{x}_{i}\")\n",
    "\n",
    "all_cols = cols + job_cols + location_cols\n",
    "jobs_df_dict = {colname: [] for colname in all_cols}\n",
    "\n",
    "for line in data['postings']:   \n",
    "    for col in cols: \n",
    "        try:                 \n",
    "            jobs_df_dict[col].append(line[col])\n",
    "        except: \n",
    "            jobs_df_dict[col].append(None)\n",
    "            \n",
    "    for col in job_cols:\n",
    "        try: \n",
    "            jobs_df_dict[col].append(line['job'][col])\n",
    "        except: \n",
    "            jobs_df_dict[col].append(None) \n",
    "    \n",
    "    for col in location_cols: \n",
    "        colname = col[0:-2]\n",
    "        loc_count = int(col[-1]) - 1\n",
    "        try: \n",
    "            jobs_df_dict[col].append(line['job'][colname][loc_count])\n",
    "        except: \n",
    "            jobs_df_dict[col].append(None)\n",
    "        loc_count += 1\n",
    "        \n",
    "    # for col in student_screen_cols: \n",
    "    #     try: \n",
    "    #         jobs_df_dict[col].append(line['job']['student_screen'][col])\n",
    "    #     except: \n",
    "    #         jobs_df_dict[col].append(None)\n",
    "\n",
    "jobs_df = pd.DataFrame.from_dict(jobs_df_dict)"
   ]
  },
  {
   "cell_type": "code",
   "execution_count": 11,
   "id": "673f52f8-ac27-4abe-be3c-4becbc6d5a28",
   "metadata": {},
   "outputs": [
    {
     "name": "stdout",
     "output_type": "stream",
     "text": [
      "<class 'pandas.core.frame.DataFrame'>\n",
      "RangeIndex: 37803 entries, 0 to 37802\n",
      "Data columns (total 38 columns):\n",
      " #   Column                  Non-Null Count  Dtype  \n",
      "---  ------                  --------------  -----  \n",
      " 0   id                      37803 non-null  int64  \n",
      " 1   apply_start             37790 non-null  object \n",
      " 2   created_at              37803 non-null  object \n",
      " 3   updated_at              37803 non-null  object \n",
      " 4   employer_logo           37803 non-null  object \n",
      " 5   employer_name           37803 non-null  object \n",
      " 6   employer_id             37803 non-null  int64  \n",
      " 7   employment_type_name    37803 non-null  object \n",
      " 8   expiration_date         37803 non-null  object \n",
      " 9   job_id                  37803 non-null  int64  \n",
      " 10  job_name                37803 non-null  object \n",
      " 11  duration                37788 non-null  object \n",
      " 12  employer_industry_id    37795 non-null  float64\n",
      " 13  employer_industry_name  37795 non-null  object \n",
      " 14  employer_logo_url       37803 non-null  object \n",
      " 15  job_type_id             37803 non-null  int64  \n",
      " 16  job_type_name           37803 non-null  object \n",
      " 17  salary_type_id          37802 non-null  float64\n",
      " 18  salary_type_name        37802 non-null  object \n",
      " 19  text_description        37803 non-null  object \n",
      " 20  title                   37803 non-null  object \n",
      " 21  work_study              37803 non-null  bool   \n",
      " 22  remote                  37803 non-null  bool   \n",
      " 23  location_cities_1       36827 non-null  object \n",
      " 24  location_states_1       36451 non-null  object \n",
      " 25  location_countries_1    36837 non-null  object \n",
      " 26  location_cities_2       7216 non-null   object \n",
      " 27  location_states_2       7136 non-null   object \n",
      " 28  location_countries_2    7215 non-null   object \n",
      " 29  location_cities_3       4986 non-null   object \n",
      " 30  location_states_3       4935 non-null   object \n",
      " 31  location_countries_3    4986 non-null   object \n",
      " 32  location_cities_4       3692 non-null   object \n",
      " 33  location_states_4       3643 non-null   object \n",
      " 34  location_countries_4    3690 non-null   object \n",
      " 35  location_cities_5       2905 non-null   object \n",
      " 36  location_states_5       2889 non-null   object \n",
      " 37  location_countries_5    2905 non-null   object \n",
      "dtypes: bool(2), float64(2), int64(4), object(30)\n",
      "memory usage: 10.5+ MB\n"
     ]
    }
   ],
   "source": [
    "jobs_df.info()"
   ]
  },
  {
   "cell_type": "markdown",
   "id": "9253322c-2943-4bdb-9b7d-ba3ca4b14aa1",
   "metadata": {},
   "source": [
    "## Parse dates/times"
   ]
  },
  {
   "cell_type": "code",
   "execution_count": 14,
   "id": "af47307d-2396-40b3-af1a-2a5db47b46b5",
   "metadata": {},
   "outputs": [],
   "source": [
    "datetime_cols = [\"apply_start\", \"created_at\", \"updated_at\", \"expiration_date\"]\n",
    "for col in datetime_cols: \n",
    "    jobs_df[col] = jobs_df[col].apply(lambda x: pd.to_datetime(x))"
   ]
  },
  {
   "cell_type": "markdown",
   "id": "bb5cb639-26c3-4f90-8152-fca9ea75f94b",
   "metadata": {},
   "source": [
    "## Manual fixes countries"
   ]
  },
  {
   "cell_type": "code",
   "execution_count": 15,
   "id": "f35e1e0b-e2d9-488e-bc49-c1cd029ee303",
   "metadata": {},
   "outputs": [],
   "source": [
    "country_cols = [\"location_countries_1\", \"location_countries_2\", \"location_countries_3\", \n",
    "                \"location_countries_4\", \"location_countries_5\"]\n",
    "for c in country_cols: \n",
    "    jobs_df[col] = jobs_df[col].apply(lambda x: \"United States\" if x == \"United State of America\" else x)"
   ]
  },
  {
   "cell_type": "code",
   "execution_count": 16,
   "id": "51c7216a-296d-4dc9-83a6-c6918fdbbfc7",
   "metadata": {},
   "outputs": [
    {
     "data": {
      "text/plain": [
       "United States                 34813\n",
       "United States of America        919\n",
       "People's Republic of China      368\n",
       "United Kingdom                  100\n",
       "Canada                           89\n",
       "Hong Kong                        60\n",
       "Japan                            51\n",
       "South Africa                     41\n",
       "Taiwan                           41\n",
       "Singapore                        32\n",
       "Germany                          21\n",
       "South Korea                      20\n",
       "Puerto Rico                      20\n",
       "Australia                        19\n",
       "Malaysia                         18\n",
       "India                            14\n",
       "Malawi                           13\n",
       "Ireland                          12\n",
       "France                           12\n",
       "Spain                            11\n",
       "Name: location_countries_1, dtype: int64"
      ]
     },
     "execution_count": 16,
     "metadata": {},
     "output_type": "execute_result"
    }
   ],
   "source": [
    "jobs_df[\"location_countries_1\"].value_counts()[0:20]"
   ]
  },
  {
   "cell_type": "markdown",
   "id": "d679170c-e016-41a8-822a-ddf4606f5e80",
   "metadata": {},
   "source": [
    "# Matching to TheOrg Employer IDs"
   ]
  },
  {
   "cell_type": "code",
   "execution_count": 17,
   "id": "6e4152eb-52a9-4ed6-956c-d38b9d04052c",
   "metadata": {},
   "outputs": [
    {
     "data": {
      "text/plain": [
       "6190"
      ]
     },
     "execution_count": 17,
     "metadata": {},
     "output_type": "execute_result"
    }
   ],
   "source": [
    "len(jobs_df[\"employer_name\"].unique())"
   ]
  },
  {
   "cell_type": "code",
   "execution_count": 33,
   "id": "1a117d59-99a5-4d66-adb9-c005a8b435ec",
   "metadata": {},
   "outputs": [],
   "source": [
    "jobs_df.to_csv(\"handshake_jobs.csv\")"
   ]
  },
  {
   "cell_type": "code",
   "execution_count": null,
   "id": "a26da275-c68b-478d-9f18-2a71a673df20",
   "metadata": {},
   "outputs": [],
   "source": []
  },
  {
   "cell_type": "code",
   "execution_count": null,
   "id": "d999db82-a45b-47d2-9655-644a5202cbef",
   "metadata": {},
   "outputs": [],
   "source": []
  },
  {
   "cell_type": "code",
   "execution_count": null,
   "id": "0d1d78f0-b18d-4ee2-8ac3-72509f0f43ab",
   "metadata": {},
   "outputs": [],
   "source": []
  },
  {
   "cell_type": "code",
   "execution_count": null,
   "id": "84bbd623-9d70-42a9-9480-5ebe6d5456e8",
   "metadata": {},
   "outputs": [],
   "source": [
    "# Close file\n",
    "f.close()"
   ]
  },
  {
   "cell_type": "code",
   "execution_count": null,
   "id": "260eb49b-1aa6-45d1-8d2b-16aaea362654",
   "metadata": {},
   "outputs": [],
   "source": []
  }
 ],
 "metadata": {
  "kernelspec": {
   "display_name": "Python 3.8.13 ('torch-gpu-2')",
   "language": "python",
   "name": "python3"
  },
  "language_info": {
   "codemirror_mode": {
    "name": "ipython",
    "version": 3
   },
   "file_extension": ".py",
   "mimetype": "text/x-python",
   "name": "python",
   "nbconvert_exporter": "python",
   "pygments_lexer": "ipython3",
   "version": "3.8.13"
  },
  "vscode": {
   "interpreter": {
    "hash": "6839630624a70b6cbba9f9c44e8a8101eec2195054390ddafd65b7e5f114903b"
   }
  }
 },
 "nbformat": 4,
 "nbformat_minor": 5
}
