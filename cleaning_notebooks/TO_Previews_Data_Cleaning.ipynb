{
 "cells": [
  {
   "cell_type": "code",
   "execution_count": 10,
   "id": "4b7ea635-dc41-4620-addd-0606d80747cd",
   "metadata": {},
   "outputs": [],
   "source": [
    "import pandas as pd\n",
    "import numpy as np\n",
    "import json"
   ]
  },
  {
   "cell_type": "code",
   "execution_count": 11,
   "id": "0fb59a96-5ff9-4976-a916-e96bd5e4a8bc",
   "metadata": {},
   "outputs": [],
   "source": [
    "filepath = \"../data/TO_previews_ALL.json\"\n",
    "# filepath = \"TO_company_previews.json\"\n",
    "\n",
    "# Opening JSON file\n",
    "f = open(filepath)\n",
    "  \n",
    "# Returns JSON object as a dictionary\n",
    "data = json.load(f)"
   ]
  },
  {
   "cell_type": "code",
   "execution_count": 12,
   "id": "e9a9f7fb-c8f8-4aa5-a3b1-efc5c9739dee",
   "metadata": {},
   "outputs": [],
   "source": [
    "ids = []\n",
    "names = []\n",
    "for line in data['companies']: \n",
    "    ids.append(line['preview']['TO_id'])\n",
    "    names.append(line['preview']['name'])"
   ]
  },
  {
   "cell_type": "code",
   "execution_count": 13,
   "id": "56f47d9f-5d08-4bfd-a720-2ebabb8432b0",
   "metadata": {},
   "outputs": [],
   "source": [
    "df = pd.DataFrame.from_dict({\"id\": ids, \"CompanyName\": names})\n",
    "df = df.drop_duplicates(subset=\"CompanyName\")\n",
    "df.to_csv(\"TO_Previews_Companies.csv\")"
   ]
  },
  {
   "cell_type": "code",
   "execution_count": 9,
   "id": "a78d6e4e-a8e1-4709-88e0-398efac49922",
   "metadata": {},
   "outputs": [
    {
     "data": {
      "text/plain": [
       "dict_keys(['TO_id', 'name', 'slug', 'description', 'positionExamples'])"
      ]
     },
     "execution_count": 9,
     "metadata": {},
     "output_type": "execute_result"
    }
   ],
   "source": [
    "data['companies'][0]['preview'].keys()"
   ]
  },
  {
   "cell_type": "code",
   "execution_count": 7,
   "id": "260eb49b-1aa6-45d1-8d2b-16aaea362654",
   "metadata": {},
   "outputs": [],
   "source": [
    "f.close()"
   ]
  },
  {
   "cell_type": "code",
   "execution_count": 38,
   "id": "13223ecc-e7cd-4e37-b09a-aa9edf2a1386",
   "metadata": {},
   "outputs": [
    {
     "data": {
      "text/plain": [
       "38808"
      ]
     },
     "execution_count": 38,
     "metadata": {},
     "output_type": "execute_result"
    }
   ],
   "source": [
    "len(df)"
   ]
  },
  {
   "cell_type": "code",
   "execution_count": 37,
   "id": "6501fb10-3da7-4c64-b2d1-ddb6c5b3763e",
   "metadata": {},
   "outputs": [
    {
     "data": {
      "text/plain": [
       "38808"
      ]
     },
     "execution_count": 37,
     "metadata": {},
     "output_type": "execute_result"
    }
   ],
   "source": [
    "len(df.set_index(\"slug\"))"
   ]
  },
  {
   "cell_type": "code",
   "execution_count": null,
   "id": "c5ecb521-1dbd-4a40-9b1c-3e27742b6f2e",
   "metadata": {},
   "outputs": [],
   "source": []
  }
 ],
 "metadata": {
  "kernelspec": {
   "display_name": "Python 3",
   "language": "python",
   "name": "python3"
  },
  "language_info": {
   "codemirror_mode": {
    "name": "ipython",
    "version": 3
   },
   "file_extension": ".py",
   "mimetype": "text/x-python",
   "name": "python",
   "nbconvert_exporter": "python",
   "pygments_lexer": "ipython3",
   "version": "3.8.8"
  }
 },
 "nbformat": 4,
 "nbformat_minor": 5
}
