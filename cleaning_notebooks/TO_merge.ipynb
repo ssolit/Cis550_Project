{
 "cells": [
  {
   "cell_type": "code",
   "execution_count": 14,
   "metadata": {},
   "outputs": [],
   "source": [
    "import pandas as pd\n",
    "import numpy as np\n",
    "import json"
   ]
  },
  {
   "cell_type": "code",
   "execution_count": 16,
   "metadata": {},
   "outputs": [],
   "source": [
    "us_companies = pd.read_csv(\"../cleaned_data/TO/companies_us_0-74k.csv\", lineterminator='\\n')\n",
    "us_employees = pd.read_csv(\"../cleaned_data/TO/employee_us_0-74k.csv\", lineterminator='\\n')\n",
    "us_orgcharts = pd.read_csv(\"../cleaned_data/TO/orgchart_us_0-74k.csv\", lineterminator='\\n')\n",
    "intl_companies = pd.read_csv(\"../cleaned_data/TO/companies_intl.csv\", lineterminator='\\n')\n",
    "intl_employees = pd.read_csv(\"../cleaned_data/TO/employee_intl.csv\", lineterminator='\\n')\n",
    "intl_orgcharts = pd.read_csv(\"../cleaned_data/TO/orgchart_intl.csv\", lineterminator='\\n')"
   ]
  },
  {
   "cell_type": "code",
   "execution_count": 17,
   "metadata": {},
   "outputs": [],
   "source": [
    "companies = pd.concat([us_companies, intl_companies])\n",
    "companies[\"CompanyName\"] = companies[\"CompanyName\"].apply(lambda x: str(x).upper())\n",
    "companies.to_csv(\"TO_companies.csv\")"
   ]
  },
  {
   "cell_type": "code",
   "execution_count": 9,
   "metadata": {},
   "outputs": [],
   "source": [
    "employees = pd.concat([us_employees, intl_employees])\n",
    "employees[\"CompanyName\"] = employees[\"CompanyName\"].apply(lambda x: str(x).upper())\n",
    "employees.to_csv(\"TO_employees.csv\")"
   ]
  },
  {
   "cell_type": "code",
   "execution_count": 12,
   "metadata": {},
   "outputs": [],
   "source": [
    "orgcharts = pd.concat([us_orgcharts, intl_orgcharts])\n",
    "orgcharts.to_csv(\"TO_orgcharts.csv\")"
   ]
  },
  {
   "cell_type": "code",
   "execution_count": 11,
   "metadata": {},
   "outputs": [
    {
     "name": "stdout",
     "output_type": "stream",
     "text": [
      "Total 459506 = 44417 + 415089\n",
      "Total 717180 = 70335 + 646845\n",
      "Total 42031 = 3443 + 38588\n"
     ]
    }
   ],
   "source": [
    "print(f\"Total {len(orgcharts)} = {len(intl_orgcharts)} + {len(us_orgcharts)}\")\n",
    "print(f\"Total {len(employees)} = {len(intl_employees)} + {len(us_employees)}\")\n",
    "print(f\"Total {len(companies)} = {len(intl_companies)} + {len(us_companies)}\")\n"
   ]
  },
  {
   "cell_type": "code",
   "execution_count": null,
   "metadata": {},
   "outputs": [],
   "source": []
  }
 ],
 "metadata": {
  "kernelspec": {
   "display_name": "Python 3 (ipykernel)",
   "language": "python",
   "name": "python3"
  },
  "language_info": {
   "codemirror_mode": {
    "name": "ipython",
    "version": 3
   },
   "file_extension": ".py",
   "mimetype": "text/x-python",
   "name": "python",
   "nbconvert_exporter": "python",
   "pygments_lexer": "ipython3",
   "version": "3.8.13"
  },
  "vscode": {
   "interpreter": {
    "hash": "6839630624a70b6cbba9f9c44e8a8101eec2195054390ddafd65b7e5f114903b"
   }
  }
 },
 "nbformat": 4,
 "nbformat_minor": 4
}
